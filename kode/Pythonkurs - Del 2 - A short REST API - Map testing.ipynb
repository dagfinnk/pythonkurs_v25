{
  "cells": [
    {
      "cell_type": "markdown",
      "metadata": {
        "id": "view-in-github",
        "colab_type": "text"
      },
      "source": [
        "<a href=\"https://colab.research.google.com/github/dagfinnk/pythonkurs_v25/blob/main/kode/Pythonkurs%20-%20Del%202%20-%20A%20short%20REST%20API%20-%20Map%20testing.ipynb\" target=\"_parent\"><img src=\"https://colab.research.google.com/assets/colab-badge.svg\" alt=\"Open In Colab\"/></a>"
      ]
    },
    {
      "cell_type": "code",
      "execution_count": 9,
      "metadata": {
        "id": "ySWiIDZByuYV"
      },
      "outputs": [],
      "source": [
        "#%pip install folium"
      ]
    },
    {
      "cell_type": "code",
      "execution_count": null,
      "metadata": {
        "id": "-HlWFwefyuYW"
      },
      "outputs": [],
      "source": [
        "import folium\n",
        "# pip install folium, xyzservices, branca"
      ]
    },
    {
      "cell_type": "code",
      "execution_count": 15,
      "metadata": {
        "id": "LMLa47GTyuYW"
      },
      "outputs": [],
      "source": [
        "icon_lat = 70\n",
        "icon_lon = 30\n",
        "icon_desc = \"Varangeren\""
      ]
    },
    {
      "cell_type": "code",
      "execution_count": null,
      "metadata": {
        "id": "bzMU4p-ZyuYX"
      },
      "outputs": [],
      "source": [
        "map = folium.Map(location=[60.39, 5.32], zoom_start=4, control_scale=True)"
      ]
    },
    {
      "cell_type": "code",
      "execution_count": null,
      "metadata": {
        "id": "zjQ7XeZfyuYX"
      },
      "outputs": [],
      "source": [
        "folium.Marker(\n",
        "    location=[icon_lat, icon_lon],\n",
        "    popup=icon_desc,\n",
        "    icon=folium.Icon(color=\"green\", icon=\"ok-sign\"),\n",
        ").add_to(map)"
      ]
    },
    {
      "cell_type": "code",
      "execution_count": 16,
      "metadata": {
        "scrolled": true,
        "id": "hDy1GWaSyuYX",
        "colab": {
          "base_uri": "https://localhost:8080/",
          "height": 843
        },
        "outputId": "b642c500-7091-4864-b246-fd7fa61e7c07"
      },
      "outputs": [
        {
          "output_type": "execute_result",
          "data": {
            "text/plain": [
              "<folium.folium.Map at 0x7d31f83e63d0>"
            ],
            "text/html": [
              "<div style=\"width:100%;\"><div style=\"position:relative;width:100%;height:0;padding-bottom:60%;\"><span style=\"color:#565656\">Make this Notebook Trusted to load map: File -> Trust Notebook</span><iframe srcdoc=\"&lt;!DOCTYPE html&gt;\n",
              "&lt;html&gt;\n",
              "&lt;head&gt;\n",
              "    \n",
              "    &lt;meta http-equiv=&quot;content-type&quot; content=&quot;text/html; charset=UTF-8&quot; /&gt;\n",
              "    \n",
              "        &lt;script&gt;\n",
              "            L_NO_TOUCH = false;\n",
              "            L_DISABLE_3D = false;\n",
              "        &lt;/script&gt;\n",
              "    \n",
              "    &lt;style&gt;html, body {width: 100%;height: 100%;margin: 0;padding: 0;}&lt;/style&gt;\n",
              "    &lt;style&gt;#map {position:absolute;top:0;bottom:0;right:0;left:0;}&lt;/style&gt;\n",
              "    &lt;script src=&quot;https://cdn.jsdelivr.net/npm/leaflet@1.9.3/dist/leaflet.js&quot;&gt;&lt;/script&gt;\n",
              "    &lt;script src=&quot;https://code.jquery.com/jquery-3.7.1.min.js&quot;&gt;&lt;/script&gt;\n",
              "    &lt;script src=&quot;https://cdn.jsdelivr.net/npm/bootstrap@5.2.2/dist/js/bootstrap.bundle.min.js&quot;&gt;&lt;/script&gt;\n",
              "    &lt;script src=&quot;https://cdnjs.cloudflare.com/ajax/libs/Leaflet.awesome-markers/2.0.2/leaflet.awesome-markers.js&quot;&gt;&lt;/script&gt;\n",
              "    &lt;link rel=&quot;stylesheet&quot; href=&quot;https://cdn.jsdelivr.net/npm/leaflet@1.9.3/dist/leaflet.css&quot;/&gt;\n",
              "    &lt;link rel=&quot;stylesheet&quot; href=&quot;https://cdn.jsdelivr.net/npm/bootstrap@5.2.2/dist/css/bootstrap.min.css&quot;/&gt;\n",
              "    &lt;link rel=&quot;stylesheet&quot; href=&quot;https://netdna.bootstrapcdn.com/bootstrap/3.0.0/css/bootstrap-glyphicons.css&quot;/&gt;\n",
              "    &lt;link rel=&quot;stylesheet&quot; href=&quot;https://cdn.jsdelivr.net/npm/@fortawesome/fontawesome-free@6.2.0/css/all.min.css&quot;/&gt;\n",
              "    &lt;link rel=&quot;stylesheet&quot; href=&quot;https://cdnjs.cloudflare.com/ajax/libs/Leaflet.awesome-markers/2.0.2/leaflet.awesome-markers.css&quot;/&gt;\n",
              "    &lt;link rel=&quot;stylesheet&quot; href=&quot;https://cdn.jsdelivr.net/gh/python-visualization/folium/folium/templates/leaflet.awesome.rotate.min.css&quot;/&gt;\n",
              "    \n",
              "            &lt;meta name=&quot;viewport&quot; content=&quot;width=device-width,\n",
              "                initial-scale=1.0, maximum-scale=1.0, user-scalable=no&quot; /&gt;\n",
              "            &lt;style&gt;\n",
              "                #map_d755be9b0a36f334b0ee08c995bc4f90 {\n",
              "                    position: relative;\n",
              "                    width: 100.0%;\n",
              "                    height: 100.0%;\n",
              "                    left: 0.0%;\n",
              "                    top: 0.0%;\n",
              "                }\n",
              "                .leaflet-container { font-size: 1rem; }\n",
              "            &lt;/style&gt;\n",
              "        \n",
              "&lt;/head&gt;\n",
              "&lt;body&gt;\n",
              "    \n",
              "    \n",
              "            &lt;div class=&quot;folium-map&quot; id=&quot;map_d755be9b0a36f334b0ee08c995bc4f90&quot; &gt;&lt;/div&gt;\n",
              "        \n",
              "&lt;/body&gt;\n",
              "&lt;script&gt;\n",
              "    \n",
              "    \n",
              "            var map_d755be9b0a36f334b0ee08c995bc4f90 = L.map(\n",
              "                &quot;map_d755be9b0a36f334b0ee08c995bc4f90&quot;,\n",
              "                {\n",
              "                    center: [60.39, 5.32],\n",
              "                    crs: L.CRS.EPSG3857,\n",
              "                    ...{\n",
              "  &quot;zoom&quot;: 4,\n",
              "  &quot;zoomControl&quot;: true,\n",
              "  &quot;preferCanvas&quot;: false,\n",
              "}\n",
              "\n",
              "                }\n",
              "            );\n",
              "            L.control.scale().addTo(map_d755be9b0a36f334b0ee08c995bc4f90);\n",
              "\n",
              "            \n",
              "\n",
              "        \n",
              "    \n",
              "            var tile_layer_82f9cdfe7a871e8e62113fd74b883993 = L.tileLayer(\n",
              "                &quot;https://tile.openstreetmap.org/{z}/{x}/{y}.png&quot;,\n",
              "                {\n",
              "  &quot;minZoom&quot;: 0,\n",
              "  &quot;maxZoom&quot;: 19,\n",
              "  &quot;maxNativeZoom&quot;: 19,\n",
              "  &quot;noWrap&quot;: false,\n",
              "  &quot;attribution&quot;: &quot;\\u0026copy; \\u003ca href=\\&quot;https://www.openstreetmap.org/copyright\\&quot;\\u003eOpenStreetMap\\u003c/a\\u003e contributors&quot;,\n",
              "  &quot;subdomains&quot;: &quot;abc&quot;,\n",
              "  &quot;detectRetina&quot;: false,\n",
              "  &quot;tms&quot;: false,\n",
              "  &quot;opacity&quot;: 1,\n",
              "}\n",
              "\n",
              "            );\n",
              "        \n",
              "    \n",
              "            tile_layer_82f9cdfe7a871e8e62113fd74b883993.addTo(map_d755be9b0a36f334b0ee08c995bc4f90);\n",
              "        \n",
              "    \n",
              "            var marker_c4d360a50f4edbfb387fe3887f69686a = L.marker(\n",
              "                [60.39, 5.32],\n",
              "                {\n",
              "}\n",
              "            ).addTo(map_d755be9b0a36f334b0ee08c995bc4f90);\n",
              "        \n",
              "    \n",
              "            var icon_c8de267c3c50c39802220c2b2dd329f2 = L.AwesomeMarkers.icon(\n",
              "                {\n",
              "  &quot;markerColor&quot;: &quot;green&quot;,\n",
              "  &quot;iconColor&quot;: &quot;white&quot;,\n",
              "  &quot;icon&quot;: &quot;ok-sign&quot;,\n",
              "  &quot;prefix&quot;: &quot;glyphicon&quot;,\n",
              "  &quot;extraClasses&quot;: &quot;fa-rotate-0&quot;,\n",
              "}\n",
              "            );\n",
              "        \n",
              "    \n",
              "        var popup_9c9061747c7b5cb5355476644dbf71f3 = L.popup({\n",
              "  &quot;maxWidth&quot;: &quot;100%&quot;,\n",
              "});\n",
              "\n",
              "        \n",
              "            \n",
              "                var html_dc00164c96427dca2b71b7c82082a547 = $(`&lt;div id=&quot;html_dc00164c96427dca2b71b7c82082a547&quot; style=&quot;width: 100.0%; height: 100.0%;&quot;&gt;Bergen?&lt;/div&gt;`)[0];\n",
              "                popup_9c9061747c7b5cb5355476644dbf71f3.setContent(html_dc00164c96427dca2b71b7c82082a547);\n",
              "            \n",
              "        \n",
              "\n",
              "        marker_c4d360a50f4edbfb387fe3887f69686a.bindPopup(popup_9c9061747c7b5cb5355476644dbf71f3)\n",
              "        ;\n",
              "\n",
              "        \n",
              "    \n",
              "    \n",
              "                marker_c4d360a50f4edbfb387fe3887f69686a.setIcon(icon_c8de267c3c50c39802220c2b2dd329f2);\n",
              "            \n",
              "    \n",
              "            tile_layer_82f9cdfe7a871e8e62113fd74b883993.addTo(map_d755be9b0a36f334b0ee08c995bc4f90);\n",
              "        \n",
              "    \n",
              "                marker_c4d360a50f4edbfb387fe3887f69686a.setIcon(icon_c8de267c3c50c39802220c2b2dd329f2);\n",
              "            \n",
              "    \n",
              "            tile_layer_82f9cdfe7a871e8e62113fd74b883993.addTo(map_d755be9b0a36f334b0ee08c995bc4f90);\n",
              "        \n",
              "    \n",
              "                marker_c4d360a50f4edbfb387fe3887f69686a.setIcon(icon_c8de267c3c50c39802220c2b2dd329f2);\n",
              "            \n",
              "    \n",
              "            tile_layer_82f9cdfe7a871e8e62113fd74b883993.addTo(map_d755be9b0a36f334b0ee08c995bc4f90);\n",
              "        \n",
              "    \n",
              "                marker_c4d360a50f4edbfb387fe3887f69686a.setIcon(icon_c8de267c3c50c39802220c2b2dd329f2);\n",
              "            \n",
              "    \n",
              "            tile_layer_82f9cdfe7a871e8e62113fd74b883993.addTo(map_d755be9b0a36f334b0ee08c995bc4f90);\n",
              "        \n",
              "    \n",
              "                marker_c4d360a50f4edbfb387fe3887f69686a.setIcon(icon_c8de267c3c50c39802220c2b2dd329f2);\n",
              "            \n",
              "    \n",
              "            tile_layer_82f9cdfe7a871e8e62113fd74b883993.addTo(map_d755be9b0a36f334b0ee08c995bc4f90);\n",
              "        \n",
              "    \n",
              "                marker_c4d360a50f4edbfb387fe3887f69686a.setIcon(icon_c8de267c3c50c39802220c2b2dd329f2);\n",
              "            \n",
              "&lt;/script&gt;\n",
              "&lt;/html&gt;\" style=\"position:absolute;width:100%;height:100%;left:0;top:0;border:none !important;\" allowfullscreen webkitallowfullscreen mozallowfullscreen></iframe></div></div>"
            ]
          },
          "metadata": {},
          "execution_count": 16
        }
      ],
      "source": [
        "map"
      ]
    },
    {
      "cell_type": "code",
      "execution_count": 10,
      "metadata": {
        "id": "Rsjqd_W8yuYX"
      },
      "outputs": [],
      "source": [
        "output_map = \"base_map.html\"\n",
        "map.save(output_map)"
      ]
    }
  ],
  "metadata": {
    "kernelspec": {
      "display_name": "Python 3 (ipykernel)",
      "language": "python",
      "name": "python3"
    },
    "language_info": {
      "codemirror_mode": {
        "name": "ipython",
        "version": 3
      },
      "file_extension": ".py",
      "mimetype": "text/x-python",
      "name": "python",
      "nbconvert_exporter": "python",
      "pygments_lexer": "ipython3",
      "version": "3.12.2"
    },
    "colab": {
      "provenance": [],
      "include_colab_link": true
    }
  },
  "nbformat": 4,
  "nbformat_minor": 0
}