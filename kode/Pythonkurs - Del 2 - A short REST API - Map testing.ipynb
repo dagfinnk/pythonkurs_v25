{
  "cells": [
    {
      "cell_type": "markdown",
      "metadata": {
        "id": "view-in-github",
        "colab_type": "text"
      },
      "source": [
        "<a href=\"https://colab.research.google.com/github/dagfinnk/pythonkurs_v25/blob/main/kode/Pythonkurs%20-%20Del%202%20-%20A%20short%20REST%20API%20-%20Map%20testing.ipynb\" target=\"_parent\"><img src=\"https://colab.research.google.com/assets/colab-badge.svg\" alt=\"Open In Colab\"/></a>"
      ]
    },
    {
      "cell_type": "code",
      "execution_count": 8,
      "metadata": {
        "id": "ySWiIDZByuYV"
      },
      "outputs": [],
      "source": [
        "#%pip install folium"
      ]
    },
    {
      "cell_type": "code",
      "execution_count": null,
      "metadata": {
        "id": "-HlWFwefyuYW"
      },
      "outputs": [],
      "source": [
        "import folium\n",
        "# pip install folium, xyzservices, branca"
      ]
    },
    {
      "cell_type": "code",
      "execution_count": null,
      "metadata": {
        "id": "LMLa47GTyuYW"
      },
      "outputs": [],
      "source": [
        "icon_lat = 70\n",
        "icon_lon = 30\n",
        "icon_desc = \"Varangeren\""
      ]
    },
    {
      "cell_type": "code",
      "execution_count": null,
      "metadata": {
        "id": "bzMU4p-ZyuYX"
      },
      "outputs": [],
      "source": [
        "map = folium.Map(location=[60.39, 5.32], zoom_start=4, control_scale=True)"
      ]
    },
    {
      "cell_type": "code",
      "execution_count": null,
      "metadata": {
        "id": "zjQ7XeZfyuYX"
      },
      "outputs": [],
      "source": [
        "folium.Marker(\n",
        "    location=[icon_lat, icon_lon],\n",
        "    popup=icon_desc,\n",
        "    icon=folium.Icon(color=\"green\", icon=\"ok-sign\"),\n",
        ").add_to(map)"
      ]
    },
    {
      "cell_type": "code",
      "execution_count": null,
      "metadata": {
        "scrolled": true,
        "id": "hDy1GWaSyuYX"
      },
      "outputs": [],
      "source": [
        "map"
      ]
    },
    {
      "cell_type": "code",
      "execution_count": null,
      "metadata": {
        "id": "Rsjqd_W8yuYX"
      },
      "outputs": [],
      "source": [
        "output_map = \"base_map.html\"\n",
        "map.save(output_map)"
      ]
    }
  ],
  "metadata": {
    "kernelspec": {
      "display_name": "Python 3 (ipykernel)",
      "language": "python",
      "name": "python3"
    },
    "language_info": {
      "codemirror_mode": {
        "name": "ipython",
        "version": 3
      },
      "file_extension": ".py",
      "mimetype": "text/x-python",
      "name": "python",
      "nbconvert_exporter": "python",
      "pygments_lexer": "ipython3",
      "version": "3.12.2"
    },
    "colab": {
      "provenance": [],
      "include_colab_link": true
    }
  },
  "nbformat": 4,
  "nbformat_minor": 0
}